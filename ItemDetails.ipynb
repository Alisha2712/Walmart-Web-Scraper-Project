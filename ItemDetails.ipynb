{
 "cells": [
  {
   "cell_type": "code",
   "execution_count": null,
   "id": "e8ae30e3",
   "metadata": {},
   "outputs": [],
   "source": [
    "#import libraries\n",
    "from bs4 import BeautifulSoup\n",
    "import requests\n",
    "import time\n",
    "import datetime\n",
    "import smtplib\n",
    "import pandas as pd\n",
    "from collections import OrderedDict\n",
    "from datetime import date\n"
   ]
  },
  {
   "cell_type": "code",
   "execution_count": 205,
   "id": "3f45b558",
   "metadata": {
    "scrolled": false
   },
   "outputs": [
    {
     "data": {
      "text/html": [
       "<div>\n",
       "<style scoped>\n",
       "    .dataframe tbody tr th:only-of-type {\n",
       "        vertical-align: middle;\n",
       "    }\n",
       "\n",
       "    .dataframe tbody tr th {\n",
       "        vertical-align: top;\n",
       "    }\n",
       "\n",
       "    .dataframe thead th {\n",
       "        text-align: right;\n",
       "    }\n",
       "</style>\n",
       "<table border=\"1\" class=\"dataframe\">\n",
       "  <thead>\n",
       "    <tr style=\"text-align: right;\">\n",
       "      <th></th>\n",
       "      <th>name</th>\n",
       "      <th>link</th>\n",
       "    </tr>\n",
       "  </thead>\n",
       "  <tbody>\n",
       "    <tr>\n",
       "      <th>0</th>\n",
       "      <td>Disney Smartab 7\" HD Android Tablet Bundle wit...</td>\n",
       "      <td>https://www.walmart.ca/en/ip/disney-smartab-7-...</td>\n",
       "    </tr>\n",
       "    <tr>\n",
       "      <th>1</th>\n",
       "      <td>Mainstays Metal Arm Futon</td>\n",
       "      <td>https://www.walmart.ca/en/ip/mainstays-metal-a...</td>\n",
       "    </tr>\n",
       "    <tr>\n",
       "      <th>2</th>\n",
       "      <td>Cuisinart Precision Master 5.5 Qt (5.2L) Stand...</td>\n",
       "      <td>https://www.walmart.ca/en/ip/cuisinart-precisi...</td>\n",
       "    </tr>\n",
       "    <tr>\n",
       "      <th>3</th>\n",
       "      <td>Samsung Galaxy Tab A8 32GB</td>\n",
       "      <td>https://www.walmart.ca/en/ip/samsung-galaxy-ta...</td>\n",
       "    </tr>\n",
       "    <tr>\n",
       "      <th>4</th>\n",
       "      <td>Keurig K-Duo Essentials Single Serve K-Cup Pod...</td>\n",
       "      <td>https://www.walmart.ca/en/ip/keurig-k-duo-esse...</td>\n",
       "    </tr>\n",
       "  </tbody>\n",
       "</table>\n",
       "</div>"
      ],
      "text/plain": [
       "                                                name  \\\n",
       "0  Disney Smartab 7\" HD Android Tablet Bundle wit...   \n",
       "1                          Mainstays Metal Arm Futon   \n",
       "2  Cuisinart Precision Master 5.5 Qt (5.2L) Stand...   \n",
       "3                         Samsung Galaxy Tab A8 32GB   \n",
       "4  Keurig K-Duo Essentials Single Serve K-Cup Pod...   \n",
       "\n",
       "                                                link  \n",
       "0  https://www.walmart.ca/en/ip/disney-smartab-7-...  \n",
       "1  https://www.walmart.ca/en/ip/mainstays-metal-a...  \n",
       "2  https://www.walmart.ca/en/ip/cuisinart-precisi...  \n",
       "3  https://www.walmart.ca/en/ip/samsung-galaxy-ta...  \n",
       "4  https://www.walmart.ca/en/ip/keurig-k-duo-esse...  "
      ]
     },
     "execution_count": 205,
     "metadata": {},
     "output_type": "execute_result"
    }
   ],
   "source": [
    "#connect to website\n",
    "URL = 'https://www.walmart.ca/ce/black-friday/1539158293147?icid=homepage_HP_TopCategory_BlackFriday_WM'\n",
    "headers = {\"User-Agent\": \"Mozilla/5.0 (Windows NT 10.0; Win64; x64) AppleWebKit/537.36 (KHTML, like Gecko) Chrome/78.0.3904.108 Safari/537.36\", \"Accept-Encoding\":\"gzip, deflate\", \"Accept\":\"text/html,application/xhtml+xml,application/xml;q=0.9,*/*;q=0.8\", \"DNT\":\"1\",\"Connection\":\"close\", \"Upgrade-Insecure-Requests\":\"1\"}\n",
    "page = requests.get(URL, headers = headers)\n",
    "soup1 = BeautifulSoup(page.content, \"html.parser\")\n",
    "soup2 = BeautifulSoup(soup1.prettify(), \"html.parser\")\n",
    "pages = soup2.find(\"div\", {\"class\": \"css-1dtknsi ed60zyg3\"})\n",
    "\n",
    "\n",
    "#to get number of pages\n",
    "pagenumbers = []\n",
    "for option in pages.find_all('option'):\n",
    "    pagenumbers.append(option['value'])\n",
    "pages = len(pagenumbers) + 1\n",
    "\n",
    "#to get all the links of the pages\n",
    "plist = []\n",
    "for i in range(pages):\n",
    "    path = 'https://www.walmart.ca/ce/black-friday/1539158293147?icid=homepage_HP_TopCategory_BlackFriday_WM&p=' + str(i)\n",
    "    #print(path)\n",
    "    plist.append(path)\n",
    "    \n",
    "#to get the names and links of all the products    \n",
    "names = []\n",
    "links = []\n",
    "for path in plist:\n",
    "    sub_page = requests.get(path, headers = headers)\n",
    "    sub_soup1 = BeautifulSoup(page.content, \"html.parser\")\n",
    "    sub_soup2 = BeautifulSoup(soup1.prettify(), \"html.parser\")\n",
    "    body = soup2.find(\"div\", {\"class\": \"css-459x84 e1pmil1x3\"})\n",
    "    for a in body.find_all('a', href=True):\n",
    "        names.append(a['aria-label'])\n",
    "        links.append('https://www.walmart.ca'+ a['href'])\n",
    "\n",
    "#final list with names, and links        \n",
    "#zip function allows us to stitch the lists together\n",
    "final = list (zip(names, links))\n",
    "\n",
    "#creating a dataframe \n",
    "items_df = pd.DataFrame(final, columns = ['name', 'link'])\n",
    "items_df.head()"
   ]
  },
  {
   "cell_type": "code",
   "execution_count": 206,
   "id": "d38fee7d",
   "metadata": {},
   "outputs": [],
   "source": [
    "#exporting dataframe to excel\n",
    "items_df.to_excel(r'/Users/alisha/Desktop/walmart_data.xlsx', index=False)"
   ]
  },
  {
   "cell_type": "code",
   "execution_count": null,
   "id": "657569a8",
   "metadata": {},
   "outputs": [],
   "source": []
  },
  {
   "cell_type": "markdown",
   "id": "7bb5ac92",
   "metadata": {},
   "source": []
  }
 ],
 "metadata": {
  "kernelspec": {
   "display_name": "Python 3 (ipykernel)",
   "language": "python",
   "name": "python3"
  },
  "language_info": {
   "codemirror_mode": {
    "name": "ipython",
    "version": 3
   },
   "file_extension": ".py",
   "mimetype": "text/x-python",
   "name": "python",
   "nbconvert_exporter": "python",
   "pygments_lexer": "ipython3",
   "version": "3.9.13"
  }
 },
 "nbformat": 4,
 "nbformat_minor": 5
}
